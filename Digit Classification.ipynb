{
 "cells": [
  {
   "cell_type": "markdown",
   "metadata": {},
   "source": [
    "# Digit Classification Using Neural Networks\n",
    "\n",
    "The MNIST dataset comprises 60,000 training examples and 10,000 test examples of the handwritten digits 0–9, formatted as 28x28-pixel monochrome images."
   ]
  },
  {
   "cell_type": "code",
   "execution_count": 1,
   "metadata": {},
   "outputs": [
    {
     "name": "stdout",
     "output_type": "stream",
     "text": [
      "Extracting MNIST_data\\train-images-idx3-ubyte.gz\n",
      "Extracting MNIST_data\\train-labels-idx1-ubyte.gz\n",
      "Extracting MNIST_data\\t10k-images-idx3-ubyte.gz\n",
      "Extracting MNIST_data\\t10k-labels-idx1-ubyte.gz\n"
     ]
    }
   ],
   "source": [
    "from tensorflow.examples.tutorials.mnist import input_data\n",
    "inputData=input_data.read_data_sets('MNIST_data', one_hot=True)"
   ]
  },
  {
   "cell_type": "code",
   "execution_count": 2,
   "metadata": {
    "collapsed": true
   },
   "outputs": [],
   "source": [
    "import matplotlib.pyplot as plt\n",
    "import numpy as np\n",
    "import random as ran"
   ]
  },
  {
   "cell_type": "markdown",
   "metadata": {},
   "source": [
    "# Looking under the hood"
   ]
  },
  {
   "cell_type": "code",
   "execution_count": 3,
   "metadata": {
    "collapsed": true
   },
   "outputs": [],
   "source": [
    "def trainSize(number):\n",
    "    print('Total Images in Training Dataset= '+ str(inputData.train.images.shape))\n",
    "    xTrain= inputData.train.images[:number,:] # selecting 'number' number of rows from all the data we have as our training data\n",
    "    print('xTrain Examples Loaded=' + str(xTrain.shape))\n",
    "    yTrain= inputData.train.labels[:number,:]\n",
    "    print('yTrain Examples Loaded=' +str(yTrain.shape))\n",
    "    return xTrain, yTrain"
   ]
  },
  {
   "cell_type": "code",
   "execution_count": 4,
   "metadata": {
    "collapsed": true
   },
   "outputs": [],
   "source": [
    "def testSize(number):\n",
    "    print('Total Images in Testing Dataset= '+ str(inputData.test.images.shape))\n",
    "    xTest= inputData.test.images[:number,:] # selecting 'number' number of rows from all the data we have as our test data\n",
    "    print('xTest Examples Loaded=' + str(xTest.shape))\n",
    "    yTest= inputData.test.labels[:number,:]\n",
    "    print('yTest Examples Loaded=' +str(yTest.shape))\n",
    "    return xTest, yTest"
   ]
  },
  {
   "cell_type": "code",
   "execution_count": 5,
   "metadata": {
    "collapsed": true
   },
   "outputs": [],
   "source": [
    "def displayDigit(number):\n",
    "    print(yTrain[number])\n",
    "    label= yTrain[number].argmax(axis=0) # interprets the one-hot encoded label\n",
    "    image= xTrain[number].reshape([28,28]) # interprets the image vector of size 1x784\n",
    "    plt.title('Example:%d Label:%d' %(number,label))\n",
    "    plt.imshow(image, cmap=plt.get_cmap(\"gray_r\"))\n",
    "    plt.show()"
   ]
  },
  {
   "cell_type": "markdown",
   "metadata": {},
   "source": [
    "# Understanding the Input "
   ]
  },
  {
   "cell_type": "code",
   "execution_count": 6,
   "metadata": {},
   "outputs": [
    {
     "name": "stdout",
     "output_type": "stream",
     "text": [
      "Total Images in Training Dataset= (55000, 784)\n",
      "xTrain Examples Loaded=(55000, 784)\n",
      "yTrain Examples Loaded=(55000, 10)\n"
     ]
    }
   ],
   "source": [
    "xTrain, yTrain = trainSize(55000)"
   ]
  },
  {
   "cell_type": "markdown",
   "metadata": {},
   "source": [
    "# xTrain Data\n",
    "\n",
    "<img src=\"IMAGES/1.png\">\n",
    "\n",
    "# yTrain Data\n",
    "\n",
    "<img src=\"IMAGES/2.png\">"
   ]
  },
  {
   "cell_type": "code",
   "execution_count": 7,
   "metadata": {},
   "outputs": [
    {
     "name": "stdout",
     "output_type": "stream",
     "text": [
      "[ 0.  0.  0.  1.  0.  0.  0.  0.  0.  0.]\n"
     ]
    },
    {
     "data": {
      "image/png": "[encoded data removed]",
      "text/plain": [
       "<matplotlib.figure.Figure at 0x20195977320>"
      ]
     },
     "metadata": {},
     "output_type": "display_data"
    }
   ],
   "source": [
    "displayDigit(ran.randint(0,xTrain.shape[0]))"
   ]
  },
  {
   "cell_type": "markdown",
   "metadata": {},
   "source": [
    "# Defining the Network Architecture"
   ]
  },
  {
   "cell_type": "markdown",
   "metadata": {},
   "source": [
    "<center><img src=\"IMAGES/softmax-regression-scalargraph.png\" style=\"width:600px;height:304px;\"></center>\n",
    "\n",
    "Softmax Function: https://en.wikipedia.org/wiki/Softmax_function"
   ]
  },
  {
   "cell_type": "code",
   "execution_count": 8,
   "metadata": {
    "collapsed": true
   },
   "outputs": [],
   "source": [
    "import tensorflow as tf"
   ]
  },
  {
   "cell_type": "markdown",
   "metadata": {},
   "source": [
    "TensorFlow builds the network architecture which you feed with inputs and run during **sessions**."
   ]
  },
  {
   "cell_type": "code",
   "execution_count": 9,
   "metadata": {
    "collapsed": true
   },
   "outputs": [],
   "source": [
    "sess= tf.Session()"
   ]
  },
  {
   "cell_type": "markdown",
   "metadata": {},
   "source": [
    "Creating placeholders that are the exact size of the input. Placeholders are used to feed the network with input data."
   ]
  },
  {
   "cell_type": "code",
   "execution_count": 10,
   "metadata": {
    "collapsed": true
   },
   "outputs": [],
   "source": [
    "x=tf.placeholder(tf.float32, shape=[None,784]) #None here means any multiples of 1x784 vectors"
   ]
  },
  {
   "cell_type": "code",
   "execution_count": 11,
   "metadata": {
    "collapsed": true
   },
   "outputs": [],
   "source": [
    "ybar= tf.placeholder(tf.float32, shape=[None,10])"
   ]
  },
  {
   "cell_type": "code",
   "execution_count": 12,
   "metadata": {
    "collapsed": true
   },
   "outputs": [],
   "source": [
    "W= tf.Variable(tf.zeros([784,10]))\n",
    "b= tf.Variable(tf.zeros([10])) "
   ]
  },
  {
   "cell_type": "code",
   "execution_count": 13,
   "metadata": {
    "collapsed": true
   },
   "outputs": [],
   "source": [
    "y= tf.nn.softmax(tf.matmul(x,W)+ b) # Multinomial logistic Regression with softmax activation function"
   ]
  },
  {
   "cell_type": "markdown",
   "metadata": {},
   "source": [
    "# Understanding the Output"
   ]
  },
  {
   "cell_type": "markdown",
   "metadata": {},
   "source": [
    "xTrain, yTrain = trainSize(5)\n",
    "\n",
    "sess.run(tf.global_variables_initializer())\n",
    "\n",
    "print(sess.run(y,feed_dict={x: xTrain}))"
   ]
  },
  {
   "cell_type": "markdown",
   "metadata": {},
   "source": [
    "# Defining the Loss Function"
   ]
  },
  {
   "cell_type": "code",
   "execution_count": 14,
   "metadata": {
    "collapsed": true
   },
   "outputs": [],
   "source": [
    "crossEntropy= tf.reduce_mean(-tf.reduce_sum(ybar*tf.log(y), reduction_indices=[1])) # reduce_sum Computes the sum of elements across dimensions of a tensor."
   ]
  },
  {
   "cell_type": "markdown",
   "metadata": {},
   "source": [
    "<img src=\"IMAGES/Parabola-antipodera.gif\" />"
   ]
  },
  {
   "cell_type": "markdown",
   "metadata": {},
   "source": [
    "# Training the Network"
   ]
  },
  {
   "cell_type": "code",
   "execution_count": 15,
   "metadata": {},
   "outputs": [
    {
     "name": "stdout",
     "output_type": "stream",
     "text": [
      "Total Images in Training Dataset= (55000, 784)\n",
      "xTrain Examples Loaded=(5500, 784)\n",
      "yTrain Examples Loaded=(5500, 10)\n",
      "Total Images in Testing Dataset= (10000, 784)\n",
      "xTest Examples Loaded=(10000, 784)\n",
      "yTest Examples Loaded=(10000, 10)\n"
     ]
    }
   ],
   "source": [
    "xTrain, yTrain = trainSize(5500)\n",
    "xTest, yTest = testSize(10000)\n",
    "learningRate = 0.1\n",
    "TrainSteps = 5000"
   ]
  },
  {
   "cell_type": "code",
   "execution_count": 16,
   "metadata": {
    "collapsed": true
   },
   "outputs": [],
   "source": [
    "initialize= tf.global_variables_initializer()\n",
    "sess.run(initialize)"
   ]
  },
  {
   "cell_type": "code",
   "execution_count": 17,
   "metadata": {
    "collapsed": true
   },
   "outputs": [],
   "source": [
    "training= tf.train.GradientDescentOptimizer(learningRate).minimize(crossEntropy)"
   ]
  },
  {
   "cell_type": "code",
   "execution_count": 18,
   "metadata": {
    "collapsed": true
   },
   "outputs": [],
   "source": [
    "correctPrediction= tf.equal(tf.argmax(y,1),tf.argmax(ybar,1))"
   ]
  },
  {
   "cell_type": "code",
   "execution_count": 19,
   "metadata": {
    "collapsed": true
   },
   "outputs": [],
   "source": [
    "accuracy= tf.reduce_mean(tf.cast(correctPrediction,tf.float32))"
   ]
  },
  {
   "cell_type": "code",
   "execution_count": 20,
   "metadata": {},
   "outputs": [
    {
     "name": "stdout",
     "output_type": "stream",
     "text": [
      "Training Step:0  Accuracy =  0.5988  Loss = 2.1882\n",
      "Training Step:100  Accuracy =  0.8647  Loss = 0.580297\n",
      "Training Step:200  Accuracy =  0.879  Loss = 0.459822\n",
      "Training Step:300  Accuracy =  0.8866  Loss = 0.408572\n",
      "Training Step:400  Accuracy =  0.8904  Loss = 0.378081\n",
      "Training Step:500  Accuracy =  0.8943  Loss = 0.356976\n",
      "Training Step:600  Accuracy =  0.8974  Loss = 0.34105\n",
      "Training Step:700  Accuracy =  0.8984  Loss = 0.32835\n",
      "Training Step:800  Accuracy =  0.9  Loss = 0.317827\n",
      "Training Step:900  Accuracy =  0.9005  Loss = 0.308862\n",
      "Training Step:1000  Accuracy =  0.9009  Loss = 0.301065\n",
      "Training Step:1100  Accuracy =  0.9023  Loss = 0.29417\n",
      "Training Step:1200  Accuracy =  0.9029  Loss = 0.287995\n",
      "Training Step:1300  Accuracy =  0.9033  Loss = 0.282406\n",
      "Training Step:1400  Accuracy =  0.9039  Loss = 0.277303\n",
      "Training Step:1500  Accuracy =  0.9048  Loss = 0.27261\n",
      "Training Step:1600  Accuracy =  0.9057  Loss = 0.268267\n",
      "Training Step:1700  Accuracy =  0.9062  Loss = 0.264226\n",
      "Training Step:1800  Accuracy =  0.9061  Loss = 0.260449\n",
      "Training Step:1900  Accuracy =  0.9063  Loss = 0.256905\n",
      "Training Step:2000  Accuracy =  0.9066  Loss = 0.253566\n",
      "Training Step:2100  Accuracy =  0.9072  Loss = 0.250412\n",
      "Training Step:2200  Accuracy =  0.9073  Loss = 0.247422\n",
      "Training Step:2300  Accuracy =  0.9071  Loss = 0.244581\n",
      "Training Step:2400  Accuracy =  0.9066  Loss = 0.241876\n",
      "Training Step:2500  Accuracy =  0.9067  Loss = 0.239294\n",
      "Training Step:2600  Accuracy =  0.9068  Loss = 0.236825\n",
      "Training Step:2700  Accuracy =  0.9065  Loss = 0.234459\n",
      "Training Step:2800  Accuracy =  0.9061  Loss = 0.232189\n",
      "Training Step:2900  Accuracy =  0.9059  Loss = 0.230007\n",
      "Training Step:3000  Accuracy =  0.9059  Loss = 0.227906\n",
      "Training Step:3100  Accuracy =  0.9056  Loss = 0.225881\n",
      "Training Step:3200  Accuracy =  0.9055  Loss = 0.223927\n",
      "Training Step:3300  Accuracy =  0.9052  Loss = 0.222039\n",
      "Training Step:3400  Accuracy =  0.9052  Loss = 0.220213\n",
      "Training Step:3500  Accuracy =  0.9056  Loss = 0.218445\n",
      "Training Step:3600  Accuracy =  0.906  Loss = 0.216731\n",
      "Training Step:3700  Accuracy =  0.9059  Loss = 0.215068\n",
      "Training Step:3800  Accuracy =  0.906  Loss = 0.213454\n",
      "Training Step:3900  Accuracy =  0.9062  Loss = 0.211885\n",
      "Training Step:4000  Accuracy =  0.9061  Loss = 0.21036\n",
      "Training Step:4100  Accuracy =  0.906  Loss = 0.208875\n",
      "Training Step:4200  Accuracy =  0.9062  Loss = 0.207429\n",
      "Training Step:4300  Accuracy =  0.9061  Loss = 0.206019\n",
      "Training Step:4400  Accuracy =  0.9063  Loss = 0.204645\n",
      "Training Step:4500  Accuracy =  0.9064  Loss = 0.203304\n",
      "Training Step:4600  Accuracy =  0.9061  Loss = 0.201995\n",
      "Training Step:4700  Accuracy =  0.9061  Loss = 0.200716\n",
      "Training Step:4800  Accuracy =  0.9059  Loss = 0.199465\n",
      "Training Step:4900  Accuracy =  0.9057  Loss = 0.198243\n",
      "Training Step:5000  Accuracy =  0.9056  Loss = 0.197047\n"
     ]
    }
   ],
   "source": [
    "for i in range(TrainSteps+1):\n",
    "    sess.run(training, feed_dict={x: xTrain, ybar: yTrain})\n",
    "    if i%100 == 0:\n",
    "        print('Training Step:' + str(i) + '  Accuracy =  ' + str(sess.run(accuracy, feed_dict={x: xTest, ybar: yTest})) \n",
    "              + '  Loss = ' + str(sess.run(crossEntropy, {x: xTrain, ybar: yTrain})))"
   ]
  },
  {
   "cell_type": "code",
   "execution_count": null,
   "metadata": {
    "collapsed": true
   },
   "outputs": [],
   "source": []
  }
 ],
 "metadata": {
  "kernelspec": {
   "display_name": "Python 3",
   "language": "python",
   "name": "python3"
  },
  "language_info": {
   "codemirror_mode": {
    "name": "ipython",
    "version": 3
   },
   "file_extension": ".py",
   "mimetype": "text/x-python",
   "name": "python",
   "nbconvert_exporter": "python",
   "pygments_lexer": "ipython3",
   "version": "3.6.1"
  }
 },
 "nbformat": 4,
 "nbformat_minor": 2
}
